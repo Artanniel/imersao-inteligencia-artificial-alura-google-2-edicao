{
  "nbformat": 4,
  "nbformat_minor": 0,
  "metadata": {
    "colab": {
      "provenance": [],
      "authorship_tag": "ABX9TyPVgHBCcSPgDbeaPMDjQbzN",
      "include_colab_link": true
    },
    "kernelspec": {
      "name": "python3",
      "display_name": "Python 3"
    },
    "language_info": {
      "name": "python"
    }
  },
  "cells": [
    {
      "cell_type": "markdown",
      "metadata": {
        "id": "view-in-github",
        "colab_type": "text"
      },
      "source": [
        "<a href=\"https://colab.research.google.com/github/Artanniel/imersao-inteligencia-artificial-alura-google-2-edicao/blob/main/bot_aula_4.ipynb\" target=\"_parent\"><img src=\"https://colab.research.google.com/assets/colab-badge.svg\" alt=\"Open In Colab\"/></a>"
      ]
    },
    {
      "cell_type": "code",
      "execution_count": 36,
      "metadata": {
        "id": "nngiW2U_S2dT"
      },
      "outputs": [],
      "source": [
        "!pip install -q -U google-generativeai"
      ]
    },
    {
      "cell_type": "code",
      "source": [
        "import google.generativeai as gemini\n",
        "from google.colab import userdata\n",
        "\n",
        "# Carrega a chave de API das configurações do Google Colab\n",
        "GEMINI_API_KEY = userdata.get(\"SECRET_KEY\")\n",
        "#print(\"API_KEY: \" + GEMINI_API_KEY)\n",
        "\n",
        "gemini.configure(api_key=GEMINI_API_KEY)\n",
        "\n",
        "generation_config = {\n",
        "    \"candidate_count\": 1,\n",
        "    \"temperature\": 0.5,\n",
        "}\n",
        "\n",
        "safety_settings ={\n",
        "    \"HARASSMENT\": \"BLOCK_NONE\",\n",
        "    \"HATE\": \"BLOCK_NONE\",\n",
        "    \"SEXUAL\": \"BLOCK_NONE\",\n",
        "    \"DANGEROUS\": \"BLOCK_NONE\",\n",
        "}\n",
        "\n",
        "model = gemini.GenerativeModel(model_name=\"gemini-1.0-pro\",\n",
        "                               generation_config=generation_config,\n",
        "                               safety_settings=safety_settings)\n",
        "\n",
        "prompt_contexto_do_chat_especialista = \"\"\"\n",
        "Você é um assistente de pesquisa acadêmica especializado em auxiliar estudantes e pesquisadores na revisão bibliográfica e escrita de textos.\n",
        "\n",
        "Suas habilidades incluem:\n",
        "\n",
        "**Revisão Bibliográfica:**\n",
        "* Buscar artigos relevantes em bases de dados acadêmicas a partir de um tema fornecido.\n",
        "* Resumir os artigos encontrados, destacando os pontos principais, metodologias, resultados e conclusões.\n",
        "* Identificar diferentes perspectivas e autores chave dentro do tema.\n",
        "* Organizar as referências bibliográficas de acordo com normas como ABNT ou APA.\n",
        "\n",
        "**Escrita de Textos Acadêmicos:**\n",
        "* Sugerir estrutura para o texto com base no argumento principal e objetivos do usuário.\n",
        "* Auxiliar na escrita de parágrafos, fornecendo sinônimos, corrigindo a gramática e estilo, e garantindo clareza e concisão.\n",
        "* Identificar trechos com potencial plágio e sugerir reformulações.\n",
        "\n",
        "Responda de forma clara, concisa e informativa. Utilize linguagem acadêmica apropriada.\n",
        "\"\"\"\n",
        "\n",
        "#chat = model.start_chat(history=[{\"role\": \"system\", \"content\": prompt_contexto_do_chat_especialista}])\n",
        "chat = model.start_chat(history=[])\n",
        "resposta = chat.send_message(prompt_contexto_do_chat_especialista)\n",
        "\n",
        "print(\"Olá eu sou seu BOT criado na aula 4, da imersão em IA Generativa do Alura + Google!\")\n",
        "print(\"\")\n",
        "\n",
        "texto_apresentacao_chat_especialista = \"\"\"\n",
        "Bem-vindo(a) ao Assistente de Pesquisa Acadêmica!\n",
        "Este chatbot foi projetado para auxiliar estudantes e pesquisadores na revisão bibliográfica e escrita de textos acadêmicos.\n",
        "Como posso te ajudar?\n",
        "Encontre artigos relevantes para sua pesquisa: forneça um tema e o chatbot buscará artigos em bases de dados acadêmicas.\n",
        "Obtenha resumos concisos dos artigos: o chatbot resume os pontos chave, metodologias e resultados de cada artigo.\n",
        "Organize suas referências bibliográficas: o chatbot formata as referências de acordo com normas como ABNT ou APA.\n",
        "Estruture seu texto acadêmico: o chatbot sugere uma estrutura lógica para seu argumento.\n",
        "Escreva parágrafos claros e concisos: o chatbot auxilia na escrita, gramática, estilo e clareza.\n",
        "Evite plágio: o chatbot identifica trechos problemáticos e sugere reformulações.\n",
        "Com este chatbot, você pode:\n",
        "Economizar tempo na revisão bibliográfica.\n",
        "Escrever textos acadêmicos mais claros e bem fundamentados.\n",
        "Aprimorar suas habilidades de pesquisa e escrita.\n",
        "Experimente! Faça uma pergunta ou descreva sua necessidade.\n",
        "\n",
        "Para finalizar nossa conversa, pode escrever 'sair'.\n",
        "\"\"\"\n",
        "print(texto_apresentacao_chat_especialista)\n",
        "prompt = input(\"Aguardando: \")\n",
        "while prompt != \"sair\":\n",
        "  #resposta = chat.send_message(prompt)\n",
        "  resposta = chat.send_message(prompt_contexto_do_chat_especialista)\n",
        "  resposta = chat.send_message(prompt)\n",
        "  print(\"Resposta: \", resposta.text, \"\\n\")\n",
        "  prompt = input(\"Aguardando: \")"
      ],
      "metadata": {
        "colab": {
          "base_uri": "https://localhost:8080/",
          "height": 382
        },
        "id": "a1umEebtQBTX",
        "outputId": "65118cee-d84c-4b75-84c9-3a47226552be"
      },
      "execution_count": 58,
      "outputs": [
        {
          "name": "stdout",
          "output_type": "stream",
          "text": [
            "Olá eu sou seu BOT criado na aula 4, da imersão em IA Generativa do Alura + Google!\n",
            "\n",
            "\n",
            "Bem-vindo(a) ao Assistente de Pesquisa Acadêmica!\n",
            "Este chatbot foi projetado para auxiliar estudantes e pesquisadores na revisão bibliográfica e escrita de textos acadêmicos.\n",
            "Como posso te ajudar?\n",
            "Encontre artigos relevantes para sua pesquisa: forneça um tema e o chatbot buscará artigos em bases de dados acadêmicas.\n",
            "Obtenha resumos concisos dos artigos: o chatbot resume os pontos chave, metodologias e resultados de cada artigo.\n",
            "Organize suas referências bibliográficas: o chatbot formata as referências de acordo com normas como ABNT ou APA.\n",
            "Estruture seu texto acadêmico: o chatbot sugere uma estrutura lógica para seu argumento.\n",
            "Escreva parágrafos claros e concisos: o chatbot auxilia na escrita, gramática, estilo e clareza.\n",
            "Evite plágio: o chatbot identifica trechos problemáticos e sugere reformulações.\n",
            "Com este chatbot, você pode:\n",
            "Economizar tempo na revisão bibliográfica.\n",
            "Escrever textos acadêmicos mais claros e bem fundamentados.\n",
            "Aprimorar suas habilidades de pesquisa e escrita.\n",
            "Experimente! Faça uma pergunta ou descreva sua necessidade.\n",
            "\n",
            "Para finalizar nossa conversa, pode escrever 'sair'.\n",
            "\n",
            "Aguardando: sair\n"
          ]
        }
      ]
    }
  ]
}